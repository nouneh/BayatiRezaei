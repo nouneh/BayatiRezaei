{
  "nbformat": 4,
  "nbformat_minor": 0,
  "metadata": {
    "colab": {
      "provenance": []
    },
    "kernelspec": {
      "name": "python3",
      "display_name": "Python 3"
    },
    "language_info": {
      "name": "python"
    }
  },
  "cells": [
    {
      "cell_type": "markdown",
      "source": [
        "### **1-a**"
      ],
      "metadata": {
        "id": "8CxRlXbiLxok"
      }
    },
    {
      "cell_type": "code",
      "source": [
        "import csv\n",
        "\n",
        "class Product:\n",
        "    def __init__(self, ID, name, type1, price, Is_available, rate):\n",
        "        self.ID = ID\n",
        "        self.name = name\n",
        "        self.type1 = type1\n",
        "        self.price = price\n",
        "        self.Is_available = Is_available\n",
        "        self.rate = rate\n",
        "\n",
        "    def __str__(self):\n",
        "        return f\"{self.ID}: {self.name} - {self.type1} - {self.price} - Available: {self.Is_available} - rate: {self.rate}\"\n",
        "\n",
        "products = {}\n",
        "\n",
        "def load_products(filename):\n",
        "    with open(filename, mode='r') as file:\n",
        "        reader = csv.DictReader(file)\n",
        "        for row in reader:\n",
        "            ID = int(row['ID'])\n",
        "            name = row['Name']\n",
        "            type1 = row['Type']\n",
        "            price = float(row['Price'])\n",
        "            Is_available = row['Is_available']\n",
        "            rate = float(row['Rate'])\n",
        "            products[ID] = Product(ID, name, type1, price, Is_available, rate)\n",
        "\n",
        "load_products('products.csv')\n"
      ],
      "metadata": {
        "id": "TZKyNBmMG5sq"
      },
      "execution_count": 13,
      "outputs": []
    },
    {
      "cell_type": "markdown",
      "source": [
        "### 1-b and 2\n"
      ],
      "metadata": {
        "id": "MF3hfF1dNGr0"
      }
    },
    {
      "cell_type": "code",
      "source": [
        "\n",
        "def get_product_info():\n",
        "    try:\n",
        "        ID_input = input(\"Enter product ID: \")\n",
        "        if not ID_input.isdigit():\n",
        "            raise ValueError(\"Only enter numbers!\")\n",
        "\n",
        "        ID = int(ID_input)\n",
        "        if ID not in products:\n",
        "            raise ValueError(\"No product found!\")\n",
        "\n",
        "        product = products[ID]\n",
        "        if product.Is_available != 'TRUE':\n",
        "            raise Exception(\"The product is not available at the moment!\")\n",
        "\n",
        "        print(f\"Product Details: {product}\")\n",
        "        if product.Is_available == 'TRUE':\n",
        "          checkout_or_not = input(\"Do you want to checkout? (yes/no): \")\n",
        "          if checkout_or_not.lower() == 'yes':\n",
        "            cart = [ID]\n",
        "            if product.price > wallet:\n",
        "                raise ValueError(\"Not enough money!\")\n",
        "            else:\n",
        "                new_wallet = wallet - product.price\n",
        "                print(f\"Payment successful! New wallet balance: {new_wallet}\")\n",
        "          else:\n",
        "            cart = []\n",
        "    except ValueError as ve:\n",
        "        print(ve)\n",
        "    except Exception as e:\n",
        "        print(e)\n",
        "wallet = 20\n",
        "get_product_info()"
      ],
      "metadata": {
        "id": "gi7sz9m3G8Rj",
        "colab": {
          "base_uri": "https://localhost:8080/"
        },
        "outputId": "e252bc33-9b9c-49f9-a73d-46a512a7ee6c"
      },
      "execution_count": 25,
      "outputs": [
        {
          "output_type": "stream",
          "name": "stdout",
          "text": [
            "Enter product ID: 2\n",
            "Product Details: 2: Learn Java in 21 Days - Book - 24.99 - Available: TRUE - rate: 4.3\n",
            "Do you want to checkout? (yes/no): yes\n",
            "Not enough money!\n"
          ]
        }
      ]
    }
  ]
}