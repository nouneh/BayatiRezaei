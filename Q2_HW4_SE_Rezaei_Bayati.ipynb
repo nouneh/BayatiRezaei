{
  "nbformat": 4,
  "nbformat_minor": 0,
  "metadata": {
    "colab": {
      "provenance": []
    },
    "kernelspec": {
      "name": "python3",
      "display_name": "Python 3"
    },
    "language_info": {
      "name": "python"
    }
  },
  "cells": [
    {
      "cell_type": "markdown",
      "source": [
        "### **1-a**"
      ],
      "metadata": {
        "id": "8CxRlXbiLxok"
      }
    },
    {
      "cell_type": "code",
      "source": [
        "import csv\n",
        "\n",
        "class Product:\n",
        "    def __init__(self, product_id, name, category, price, availability, rating):\n",
        "        self.product_id = product_id\n",
        "        self.name = name\n",
        "        self.category = category\n",
        "        self.price = price\n",
        "        self.availability = availability\n",
        "        self.rating = rating\n",
        "\n",
        "    def __str__(self):\n",
        "        return f\"{self.product_id}: {self.name} - {self.category} - {self.price} - Available: {self.availability} - Rating: {self.rating}\"\n",
        "\n",
        "products = {}\n",
        "\n",
        "def load_products(filename):\n",
        "    with open(filename, mode='r') as file:\n",
        "        reader = csv.DictReader(file)\n",
        "        for row in reader:\n",
        "            product_id = int(row['product_id'])\n",
        "            name = row['name']\n",
        "            category = row['category']\n",
        "            price = float(row['price'])\n",
        "            availability = row['availability'].lower() == 'true'\n",
        "            rating = float(row['rating'])\n",
        "            products[product_id] = Product(product_id, name, category, price, availability, rating)\n",
        "\n",
        "load_products('products.csv')\n"
      ],
      "metadata": {
        "id": "TZKyNBmMG5sq"
      },
      "execution_count": null,
      "outputs": []
    },
    {
      "cell_type": "markdown",
      "source": [
        "### 1-b\n"
      ],
      "metadata": {
        "id": "MF3hfF1dNGr0"
      }
    },
    {
      "cell_type": "code",
      "source": [
        "\n",
        "def get_product_info():\n",
        "    try:\n",
        "        product_id_input = input(\"Enter product ID: \")\n",
        "        if not product_id_input.isdigit():\n",
        "            raise ValueError(\"Only enter numbers!\")\n",
        "\n",
        "        product_id = int(product_id_input)\n",
        "        if product_id not in products:\n",
        "            raise ValueError(\"No product found!\")\n",
        "\n",
        "        product = products[product_id]\n",
        "        if not product.availability:\n",
        "            raise Exception(\"The product is not available at the moment!\")\n",
        "\n",
        "        print(f\"Product Details: {product}\")\n",
        "    except ValueError as ve:\n",
        "        print(ve)\n",
        "    except Exception as e:\n",
        "        print(e)\n",
        "\n",
        "# Call the function to get product info\n",
        "get_product_info()"
      ],
      "metadata": {
        "id": "gi7sz9m3G8Rj"
      },
      "execution_count": null,
      "outputs": []
    },
    {
      "cell_type": "markdown",
      "source": [
        "### 2"
      ],
      "metadata": {
        "id": "L-uTPeSd_0II"
      }
    },
    {
      "cell_type": "code",
      "source": [
        "class User:\n",
        "    def __init__(self, wallet):\n",
        "        self.wallet = wallet\n",
        "\n",
        "    def make_payment(self, amount):\n",
        "        if self.wallet < amount:\n",
        "            raise Exception(\"Not enough money!\")\n",
        "        self.wallet -= amount\n",
        "        print(\"Payment successful!\")\n",
        "        return self.wallet\n",
        "\n",
        "def load_user_wallet(filename):\n",
        "    with open(filename, mode='r') as file:\n",
        "        return float(file.readline().strip())\n",
        "\n",
        "def update_user_wallet(filename, new_balance):\n",
        "    with open(filename, mode='w') as file:\n",
        "        file.write(str(new_balance))\n",
        "\n",
        "user_wallet_filename = 'user_wallet.txt'\n",
        "user_wallet_balance = load_user_wallet(user_wallet_filename)\n",
        "user = User(user_wallet_balance)\n",
        "\n",
        "def checkout(cart, user):\n",
        "    total_price = sum(product.price for product in cart)\n",
        "    try:\n",
        "        new_balance = user.make_payment(total_price)\n",
        "        print(f\"Receipt: {[(product.name, product.price) for product in cart]}\")\n",
        "        print(f\"New wallet balance: {new_balance}\")\n",
        "        update_user_wallet(user_wallet_filename, new_balance)\n",
        "    except Exception as e:\n",
        "        print(e)\n",
        "\n",
        "checkout(cart, user)\n"
      ],
      "metadata": {
        "id": "C3ASuddsG_qH"
      },
      "execution_count": null,
      "outputs": []
    }
  ]
}