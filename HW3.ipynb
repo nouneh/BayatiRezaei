{
  "nbformat": 4,
  "nbformat_minor": 0,
  "metadata": {
    "colab": {
      "provenance": []
    },
    "kernelspec": {
      "name": "python3",
      "display_name": "Python 3"
    },
    "language_info": {
      "name": "python"
    }
  },
  "cells": [
    {
      "cell_type": "code",
      "execution_count": null,
      "metadata": {
        "colab": {
          "base_uri": "https://localhost:8080/"
        },
        "id": "X0bzJV7YByNw",
        "outputId": "0f012115-618a-43a4-a625-73a1754c85e7"
      },
      "outputs": [
        {
          "output_type": "stream",
          "name": "stdout",
          "text": [
            "1. Sign up\n",
            "2. Login\n",
            "3. Exit\n",
            "Enter your choice: 1\n",
            "Enter username: nouneh\n",
            "Enter password: Amin137881\n",
            "Enter age: 21\n",
            "Enter address: tehran\n",
            "Sign up successful!\n",
            "1. Sign up\n",
            "2. Login\n",
            "3. Exit\n",
            "Enter your choice: 2\n",
            "Enter username: nouneh\n",
            "Enter password: Amin137881\n",
            "Login successful!\n",
            "1. Charge Wallet\n",
            "2. Edit Address\n"
          ]
        }
      ],
      "source": [
        "import json\n",
        "\n",
        "class Person:\n",
        "    def __init__(self, username, password, age, wallet, address):\n",
        "        self.username = username\n",
        "        self.password = password\n",
        "        self.age = age\n",
        "        self.wallet = wallet\n",
        "        self.address = address\n",
        "\n",
        "    def charge_wallet(self, amount):\n",
        "        self.wallet += amount\n",
        "\n",
        "    def edit_address(self, new_address):\n",
        "        self.address = new_address\n",
        "\n",
        "def save_data(users):\n",
        "    with open('users.json', 'w') as file:\n",
        "        json.dump(users, file)\n",
        "\n",
        "def load_data():\n",
        "    try:\n",
        "        with open('users.json', 'r') as file:\n",
        "            data = json.load(file)\n",
        "            return data\n",
        "    except FileNotFoundError:\n",
        "        return {}\n",
        "\n",
        "def main():\n",
        "    users = load_data()\n",
        "\n",
        "    while True:\n",
        "        print(\"1. Sign up\")\n",
        "        print(\"2. Login\")\n",
        "        print(\"3. Exit\")\n",
        "        choice = input(\"Enter your choice: \")\n",
        "\n",
        "        if choice == '1':\n",
        "            username = input(\"Enter username: \")\n",
        "            password = input(\"Enter password: \")\n",
        "            age = int(input(\"Enter age: \"))\n",
        "            wallet = 0\n",
        "            address = input(\"Enter address: \")\n",
        "\n",
        "            new_user = Person(username, password, age, wallet, address)\n",
        "            users[username] = new_user.__dict__\n",
        "            save_data(users)\n",
        "            print(\"Sign up successful!\")\n",
        "\n",
        "        elif choice == '2':\n",
        "            username = input(\"Enter username: \")\n",
        "            password = input(\"Enter password: \")\n",
        "\n",
        "            if username in users and users[username]['password'] == password:\n",
        "                print(\"Login successful!\")\n",
        "                print(\"1. Charge Wallet\")\n",
        "                print(\"2. Edit Address\")\n",
        "                sub_choice = input(\"Enter your choice: \")\n",
        "\n",
        "                if sub_choice == '1':\n",
        "                    amount = int(input(\"Enter amount to charge: \"))\n",
        "                    users[username]['wallet'] += amount\n",
        "                    save_data(users)\n",
        "                    print(\"Wallet charged successfully!\")\n",
        "\n",
        "                elif sub_choice == '2':\n",
        "                    new_address = input(\"Enter new address: \")\n",
        "                    users[username]['address'] = new_address\n",
        "                    save_data(users)\n",
        "                    print(\"Address updated successfully!\")\n",
        "\n",
        "            else:\n",
        "                print(\"Invalid username or password.\")\n",
        "\n",
        "        elif choice == '3':\n",
        "            break\n",
        "\n",
        "if __name__ == \"__main__\":\n",
        "    main()\n"
      ]
    }
  ]
}